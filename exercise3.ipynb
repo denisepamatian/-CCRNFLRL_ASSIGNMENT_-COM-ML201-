{
  "nbformat": 4,
  "nbformat_minor": 0,
  "metadata": {
    "colab": {
      "provenance": []
    },
    "kernelspec": {
      "name": "python3",
      "display_name": "Python 3"
    },
    "language_info": {
      "name": "python"
    }
  },
  "cells": [
    {
      "cell_type": "code",
      "execution_count": null,
      "metadata": {
        "id": "9UPMSGFaZ7Ga"
      },
      "outputs": [],
      "source": [
        "%matplotlib inline\n",
        "\n",
        "import gym\n",
        "import matplotlib\n",
        "import numpy as np\n",
        "import sys\n",
        "\n",
        "from collections import defaultdict\n",
        "\n",
        "if \"../\" not in sys.path:\n",
        "  sys.path.append(\"../\")\n",
        "from lib.envs.blackjack import BlackjackEnv\n",
        "from lib import plotting\n",
        "\n",
        "matplotlib.style.use('ggplot')"
      ]
    },
    {
      "cell_type": "code",
      "source": [
        "\n",
        "env = BlackjackEnv()"
      ],
      "metadata": {
        "id": "fIP7l_7hZ9Gy"
      },
      "execution_count": null,
      "outputs": []
    },
    {
      "cell_type": "code",
      "source": [
        "def mc_prediction(policy, env, num_episodes, discount_factor=1.0):\n",
        "    \"\"\"\n",
        "    Monte Carlo prediction algorithm. Calculates the value function\n",
        "    for a given policy using sampling.\n",
        "\n",
        "    Args:\n",
        "        policy: A function that maps an observation to action probabilities.\n",
        "        env: OpenAI gym environment.\n",
        "        num_episodes: Number of episodes to sample.\n",
        "        discount_factor: Gamma discount factor.\n",
        "\n",
        "    Returns:\n",
        "        A dictionary that maps from state -> value.\n",
        "        The state is a tuple and the value is a float.\n",
        "    \"\"\"\n",
        "\n",
        "    # Keeps track of sum and count of returns for each state\n",
        "    # to calculate an average. We could use an array to save all\n",
        "    # returns (like in the book) but that's memory inefficient.\n",
        "    returns_sum = defaultdict(float)\n",
        "    returns_count = defaultdict(float)\n",
        "\n",
        "    # The final value function\n",
        "    V = defaultdict(float)\n",
        "\n",
        "    for i_episode in range(1, num_episodes + 1):\n",
        "        # Print out which episode we're on, useful for debugging.\n",
        "        if i_episode % 1000 == 0:\n",
        "            print(\"\\rEpisode {}/{}.\".format(i_episode, num_episodes), end=\"\")\n",
        "            sys.stdout.flush()\n",
        "\n",
        "        # Generate an episode.\n",
        "        # An episode is an array of (state, action, reward) tuples\n",
        "        episode = []\n",
        "        state = env.reset()\n",
        "        for t in range(100):\n",
        "            action = policy(state)\n",
        "            next_state, reward, done, _ = env.step(action)\n",
        "            episode.append((state, action, reward))\n",
        "            if done:\n",
        "                break\n",
        "            state = next_state\n",
        "\n",
        "        # Find all states the we've visited in this episode\n",
        "        # We convert each state to a tuple so that we can use it as a dict key\n",
        "        states_in_episode = set([tuple(x[0]) for x in episode])\n",
        "        for state in states_in_episode:\n",
        "            # Find the first occurance of the state in the episode\n",
        "            first_occurence_idx = next(i for i,x in enumerate(episode) if x[0] == state)\n",
        "            # Sum up all rewards since the first occurance\n",
        "            G = sum([x[2]*(discount_factor**i) for i,x in enumerate(episode[first_occurence_idx:])])\n",
        "            # Calculate average return for this state over all sampled episodes\n",
        "            returns_sum[state] += G\n",
        "            returns_count[state] += 1.0\n",
        "            V[state] = returns_sum[state] / returns_count[state]\n",
        "\n",
        "    return V"
      ],
      "metadata": {
        "id": "bdPruu3xaA5s"
      },
      "execution_count": null,
      "outputs": []
    },
    {
      "cell_type": "code",
      "source": [
        "def sample_policy(observation):\n",
        "    \"\"\"\n",
        "    A policy that sticks if the player score is >= 18 and hits otherwise. You don't need a perfect score to win you just need a higher score out of all the players.\n",
        "    \"\"\"\n",
        "    score, dealer_score, usable_ace = observation\n",
        "    return 0 if score >= 18 else 1"
      ],
      "metadata": {
        "id": "5DDpRiI4aGI1"
      },
      "execution_count": null,
      "outputs": []
    },
    {
      "cell_type": "code",
      "source": [
        "V_10k = mc_prediction(sample_policy, env, num_episodes=10000)\n",
        "plotting.plot_value_function(V_10k, title=\"10,000 Steps\")\n",
        "\n",
        "V_500k = mc_prediction(sample_policy, env, num_episodes=500000)\n",
        "plotting.plot_value_function(V_500k, title=\"500,000 Steps\")"
      ],
      "metadata": {
        "id": "_uoRO5draMfA"
      },
      "execution_count": null,
      "outputs": []
    }
  ]
}